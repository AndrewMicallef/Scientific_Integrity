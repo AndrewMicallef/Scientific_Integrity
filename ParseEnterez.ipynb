{
 "cells": [
  {
   "cell_type": "code",
   "execution_count": 1,
   "metadata": {},
   "outputs": [],
   "source": [
    "import pandas as pd\n",
    "import xml.etree.ElementTree as ET\n",
    "\n",
    "xmldoc = ET.parse('tmp')\n",
    "\n",
    "root = xmldoc.getroot()"
   ]
  },
  {
   "cell_type": "code",
   "execution_count": 2,
   "metadata": {},
   "outputs": [],
   "source": [
    "Series = []\n",
    "for DocSum in root.findall('DocSum'):\n",
    "    data = {}\n",
    "    for Item in DocSum:\n",
    "        if Item.tag == 'Id':\n",
    "            data['Id'] = int(Item.text)\n",
    "            continue\n",
    "        \n",
    "        name = Item.attrib['Name']\n",
    "        if name in ('Source', 'DOI', \"PubDate\"):\n",
    "            data[name] = Item.text\n",
    "    \n",
    "    Series.append(pd.Series(data))"
   ]
  },
  {
   "cell_type": "code",
   "execution_count": 3,
   "metadata": {},
   "outputs": [],
   "source": [
    "df = pd.concat(Series, axis=1, sort=False)"
   ]
  },
  {
   "cell_type": "code",
   "execution_count": 13,
   "metadata": {},
   "outputs": [],
   "source": []
  },
  {
   "cell_type": "markdown",
   "metadata": {},
   "source": [
    "------------------------------------------"
   ]
  },
  {
   "cell_type": "code",
   "execution_count": 1,
   "metadata": {},
   "outputs": [],
   "source": [
    "import re\n",
    "\n",
    "import pandas as pd\n",
    "import xml.etree.ElementTree as ET\n",
    "\n",
    "from tqdm import tqdm_notebook as tqdm\n",
    "\n",
    "import urllib\n",
    "from urllib.parse import quote as q\n"
   ]
  },
  {
   "cell_type": "code",
   "execution_count": 2,
   "metadata": {},
   "outputs": [],
   "source": [
    "Searches = pd.read_csv('DATA/NHMRC/searches.csv', index_col=0).drop_duplicates(subset=['CI', 'INS'])"
   ]
  },
  {
   "cell_type": "code",
   "execution_count": 3,
   "metadata": {},
   "outputs": [],
   "source": [
    "import os\n",
    "os.makedirs('DATA/search_data', exist_ok=True)"
   ]
  },
  {
   "cell_type": "code",
   "execution_count": 10,
   "metadata": {},
   "outputs": [
    {
     "data": {
      "application/vnd.jupyter.widget-view+json": {
       "model_id": "dc51190ab2af4421bc305293eeafb1b7",
       "version_major": 2,
       "version_minor": 0
      },
      "text/plain": [
       "HBox(children=(IntProgress(value=0, max=1586), HTML(value='')))"
      ]
     },
     "metadata": {},
     "output_type": "display_data"
    }
   ],
   "source": [
    "base = 'https://eutils.ncbi.nlm.nih.gov/entrez/eutils/'\n",
    "db = 'pubmed' #?db=pubmed\n",
    "retmax = '0'\n",
    "\n",
    "for sid, query in tqdm(Searches.search_string.items(), total=Searches.shape[0]):\n",
    "    \n",
    "    if os.path.exists(f'DATA/search_data/{sid}.xml'): continue\n",
    "    \n",
    "    req0 = f'{base}esearch.fcgi?db={db}&term={query}&RetMax={retmax}&usehistory=y'\n",
    "    \n",
    "    output = urllib.request.urlopen(req0).read().decode()\n",
    "    \n",
    "    web, = re.findall(r'<WebEnv>(\\S+)<\\/WebEnv>', output)\n",
    "    key, = re.findall(r'<QueryKey>(\\d+)<\\/QueryKey>', output)\n",
    "    \n",
    "    req1 = f'{base}esummary.fcgi?db={db}&query_key={key}&WebEnv={web}'\n",
    "    try:\n",
    "        urllib.request.urlretrieve(req1, f'DATA/search_data/{sid}.xml')\n",
    "    except HTTPError: \n",
    "        pass\n",
    "    "
   ]
  },
  {
   "cell_type": "code",
   "execution_count": null,
   "metadata": {},
   "outputs": [],
   "source": []
  },
  {
   "cell_type": "code",
   "execution_count": 6,
   "metadata": {},
   "outputs": [
    {
     "data": {
      "text/plain": [
       "100"
      ]
     },
     "execution_count": 6,
     "metadata": {},
     "output_type": "execute_result"
    }
   ],
   "source": [
    "Searches.search_string.sample(100)"
   ]
  },
  {
   "cell_type": "code",
   "execution_count": 9,
   "metadata": {},
   "outputs": [
    {
     "data": {
      "text/plain": [
       "(2202, 4)"
      ]
     },
     "execution_count": 9,
     "metadata": {},
     "output_type": "execute_result"
    }
   ],
   "source": []
  },
  {
   "cell_type": "code",
   "execution_count": 8,
   "metadata": {},
   "outputs": [
    {
     "data": {
      "text/plain": [
       "'Id'"
      ]
     },
     "execution_count": 8,
     "metadata": {},
     "output_type": "execute_result"
    }
   ],
   "source": [
    "Searches.search_string"
   ]
  },
  {
   "cell_type": "code",
   "execution_count": null,
   "metadata": {},
   "outputs": [],
   "source": [
    "import glob\n",
    "\n",
    "glob.glob('DATA/')\n",
    "\n",
    "xmldoc = ET.parse('tmp')\n",
    "\n",
    "root = xmldoc.getroot()\n",
    "\n",
    "Series = []\n",
    "for DocSum in root.findall('DocSum'):\n",
    "    data = {}\n",
    "    for Item in DocSum:\n",
    "        if Item.tag == 'Id':\n",
    "            data['Id'] = int(Item.text)\n",
    "            continue\n",
    "        \n",
    "        name = Item.attrib['Name']\n",
    "        if name in ('Source', 'DOI', \"PubDate\"):\n",
    "            data[name] = Item.text\n",
    "    \n",
    "    Series.append(pd.Series(data))"
   ]
  }
 ],
 "metadata": {
  "kernelspec": {
   "display_name": "Python 3",
   "language": "python",
   "name": "python3"
  },
  "language_info": {
   "codemirror_mode": {
    "name": "ipython",
    "version": 3
   },
   "file_extension": ".py",
   "mimetype": "text/x-python",
   "name": "python",
   "nbconvert_exporter": "python",
   "pygments_lexer": "ipython3",
   "version": "3.7.0"
  }
 },
 "nbformat": 4,
 "nbformat_minor": 2
}
