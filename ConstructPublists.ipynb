{
 "cells": [
  {
   "cell_type": "code",
   "execution_count": 18,
   "metadata": {},
   "outputs": [],
   "source": [
    "import pandas as pd\n",
    "import xml.etree.ElementTree as ET\n",
    "import glob\n",
    "import os"
   ]
  },
  {
   "cell_type": "code",
   "execution_count": 19,
   "metadata": {},
   "outputs": [],
   "source": [
    "import re"
   ]
  },
  {
   "cell_type": "code",
   "execution_count": 20,
   "metadata": {},
   "outputs": [],
   "source": [
    "files = glob.glob('DATA/search_data/*.xml')\n",
    "\n",
    "if not os.path.exists('DATA/publications'):\n",
    "    os.makedirs('DATA/publications')"
   ]
  },
  {
   "cell_type": "code",
   "execution_count": null,
   "metadata": {},
   "outputs": [],
   "source": []
  },
  {
   "cell_type": "code",
   "execution_count": 21,
   "metadata": {},
   "outputs": [],
   "source": [
    "for path in files:\n",
    "    \n",
    "    sid, = re.findall(r'\\\\(\\d+).xml', path)\n",
    "    \n",
    "    if os.path.exists(f'DATA/publications/{sid}.csv'):continue\n",
    "    xmldoc = ET.parse(path)\n",
    "\n",
    "    root = xmldoc.getroot()\n",
    "\n",
    "    Series = []\n",
    "    for DocSum in root.findall('DocSum'):\n",
    "        data = {}\n",
    "        for Item in DocSum:\n",
    "            if Item.tag == 'Id':\n",
    "                data['PMID'] = int(Item.text)\n",
    "                continue\n",
    "\n",
    "            name = Item.attrib['Name']\n",
    "            if name in ('Source', 'DOI', 'PubDate', 'FullJournalName'):\n",
    "                data[name] = Item.text\n",
    "\n",
    "        Series.append(pd.Series(data))\n",
    "    \n",
    "    if not Series: continue\n",
    "    df = pd.concat(Series, axis=1, sort=False).T\n",
    "    df['sid'] = int(sid)\n",
    "    \n",
    "    df.to_csv(f'DATA/publications/{sid}.csv')"
   ]
  },
  {
   "cell_type": "code",
   "execution_count": null,
   "metadata": {},
   "outputs": [],
   "source": []
  }
 ],
 "metadata": {
  "kernelspec": {
   "display_name": "Python 3",
   "language": "python",
   "name": "python3"
  },
  "language_info": {
   "codemirror_mode": {
    "name": "ipython",
    "version": 3
   },
   "file_extension": ".py",
   "mimetype": "text/x-python",
   "name": "python",
   "nbconvert_exporter": "python",
   "pygments_lexer": "ipython3",
   "version": "3.7.0"
  }
 },
 "nbformat": 4,
 "nbformat_minor": 2
}
