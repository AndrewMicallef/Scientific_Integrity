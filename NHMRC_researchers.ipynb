{
 "cells": [
  {
   "cell_type": "code",
   "execution_count": 4,
   "metadata": {},
   "outputs": [],
   "source": [
    "import pandas as pd\n",
    "import urllib\n",
    "import re\n",
    "import os"
   ]
  },
  {
   "cell_type": "code",
   "execution_count": 4,
   "metadata": {},
   "outputs": [],
   "source": [
    "#download the NHMRC funding data if not already available\n",
    "\n",
    "source = 'https://nhmrc.gov.au/sites/default/files/documents/attachments/all-grants-2000-2016.xlsx'\n",
    "\n",
    "if not os.path.exists('DATA/NHMRC/all-grants-2000-2016.xlsx'):\n",
    "    os.makedirs('DATA/NHMRC/', exist_ok=True)\n",
    "    urllib.request.urlretrieve(source, 'DATA/NHMRC/all-grants-2000-2016.xlsx')"
   ]
  },
  {
   "cell_type": "code",
   "execution_count": 2,
   "metadata": {},
   "outputs": [],
   "source": [
    "#data sourced from NHMRC website 20/10/2018\n",
    "nhmrc_df = pd.read_excel('DATA/NHMRC/all-grants-2000-2016.xlsx', sheet_name=1, skiprows=3)"
   ]
  },
  {
   "cell_type": "code",
   "execution_count": 3,
   "metadata": {},
   "outputs": [
    {
     "data": {
      "text/plain": [
       "array(['Prof', 'Dr', 'Ms', 'Mr', 'A/Pr', 'E/Pr', 'Miss', 'Mrs',\n",
       "       'Mary-Anne', 'Stacey', 'Lee', 'Victoria', 'Suzanne', 'Peter',\n",
       "       'Jennifer', 'Sarah', 'Jay', 'Kip', 'David', 'Nikki', 'Allan',\n",
       "       'Yufeng', 'Srinivas', 'Heidi', 'Rosalind', 'Mingming', 'Oscar',\n",
       "       'Sri', 'Kerryann', 'Martin', 'Hansoo', 'Leon', 'Alexander',\n",
       "       'Kamalini', 'Daniela', 'Rita', 'Kristy', 'Jonathan', 'Dana',\n",
       "       'Sharon', 'Andrew', 'Janine', 'Jan', 'Douglas', 'Cherise',\n",
       "       'University', 'Kerryn', 'Maria', 'Natalie', 'Louise', 'Jane',\n",
       "       'Rosalba', 'Nita', 'Lisa', 'Murdoch', 'Sandra', 'Robert', 'QIM',\n",
       "       'Cate', 'Anne', 'Ralph', 'Sianna', 'RAOBio@rgms', 'ECU', 'Susan',\n",
       "       'Joanne', 'Liesel', 'Craig', 'Katie', 'Stefan', 'Yvonne', 'Rose',\n",
       "       'Anna', 'Nick', 'RAO', 'Nadine', 'Julie', 'Primary', 'Deepa',\n",
       "       'Nigel', 'Carol', 'Gerald', 'Tammy', 'Kristal', 'Leanne',\n",
       "       'Frances', 'Christopher', 'Zhitao', 'Kevin', 'Linda'], dtype=object)"
      ]
     },
     "execution_count": 3,
     "metadata": {},
     "output_type": "execute_result"
    }
   ],
   "source": [
    "unique_CI = pd.Series(nhmrc_df['CIA NAME'].unique())\n",
    "\n",
    "unique_CI.str.split(expand=True)[0].unique()"
   ]
  },
  {
   "cell_type": "markdown",
   "metadata": {},
   "source": [
    "To start with I want to generate a search string for each unique CI in the NHMRC dataset which consists of just the persons name. Because I intend to search PubMed I need to exclude institutional funding.\n",
    "\n",
    "Basically I want to first remove all titles in the name series. Above the titles contained in the data set are:\n",
    "'Prof', 'Dr', 'Ms', 'Mr', 'A/Pr', 'E/Pr', 'Miss', 'Mrs', \n",
    "\n",
    "In addition to strings that are obviously titles, there are also these suspect strings.\n",
    "'University', 'QIM', 'RAOBio@rgms', 'ECU', 'RAO', 'Primary', \n",
    "I want to first select the data with these strings to get a better idea of what filtaration to apply!"
   ]
  },
  {
   "cell_type": "code",
   "execution_count": 4,
   "metadata": {},
   "outputs": [],
   "source": [
    "bad_names = '|^'.join(('^University', 'QIM', 'RAOBio@rgms', 'ECU', 'RAO', 'Primary'))"
   ]
  },
  {
   "cell_type": "markdown",
   "metadata": {},
   "source": [
    "Seems there are a few grants that were entered for instituions and not for individuals... I think I'll just filter these out, there are after all only 6 of them."
   ]
  },
  {
   "cell_type": "code",
   "execution_count": 5,
   "metadata": {},
   "outputs": [
    {
     "data": {
      "text/plain": [
       "'^Prof|^Dr|^Ms|^Mr|^A/Pr|^E/Pr|^Miss|^Mrs'"
      ]
     },
     "execution_count": 5,
     "metadata": {},
     "output_type": "execute_result"
    }
   ],
   "source": [
    "title_pat = '|^'.join(('^Prof', 'Dr', 'Ms', 'Mr', 'A/Pr', 'E/Pr', 'Miss', 'Mrs',))\n",
    "title_pat"
   ]
  },
  {
   "cell_type": "code",
   "execution_count": 6,
   "metadata": {},
   "outputs": [],
   "source": [
    "filters = \\\n",
    "    ((nhmrc_df['STATUS'] == 'Open')                       #Open funding\n",
    "    & ~nhmrc_df['CIA NAME'].str.contains(bad_names)\n",
    "    & (nhmrc_df['START YR'] > 2013)\n",
    "    & (nhmrc_df['GRANT SUB TYPE'].str.contains('Project')))"
   ]
  },
  {
   "cell_type": "code",
   "execution_count": 7,
   "metadata": {},
   "outputs": [],
   "source": [
    "search_string = lambda S: urllib.parse.quote(f'(({S.CI}[Author]) ' \n",
    "                            f'AND (\"{S.YR}\"[Date - Publication] : \"3000\"[Date - Publication])) ' \n",
    "                           f'AND {S.INS}[Affiliation]')"
   ]
  },
  {
   "cell_type": "code",
   "execution_count": 8,
   "metadata": {},
   "outputs": [],
   "source": [
    "search_df = nhmrc_df.loc[filters, ['CIA NAME', 'ADMINISTERING INSTITUTION', 'START YR']].copy()\n",
    "search_df['CIA NAME'] = search_df['CIA NAME'].str.replace(title_pat, '')\n",
    "search_df.columns = ['CI', 'INS', 'YR']\n",
    "#search_df\n",
    "search_df['search_string'] = search_df.apply(search_string, raw=False, axis=1)"
   ]
  },
  {
   "cell_type": "code",
   "execution_count": 11,
   "metadata": {},
   "outputs": [],
   "source": [
    "search_df.to_csv('DATA/NHMRC/searches.csv')"
   ]
  },
  {
   "cell_type": "markdown",
   "metadata": {},
   "source": [
    "-----------------------------------------"
   ]
  },
  {
   "cell_type": "code",
   "execution_count": null,
   "metadata": {},
   "outputs": [],
   "source": []
  },
  {
   "cell_type": "markdown",
   "metadata": {},
   "source": [
    "https://www.ncbi.nlm.nih.gov/pmc/tools/get-metadata/"
   ]
  },
  {
   "cell_type": "code",
   "execution_count": 17,
   "metadata": {},
   "outputs": [
    {
     "name": "stdout",
     "output_type": "stream",
     "text": [
      "b'<?xml version=\"1.0\" encoding=\"UTF-8\" ?>\\n<!DOCTYPE eSearchResult PUBLIC \"-//NLM//DTD esearch 20060628//EN\" \"https://eutils.ncbi.nlm.nih.gov/eutils/dtd/20060628/esearch.dtd\">\\n<eSearchResult><Count>4</Count><RetMax>4</RetMax><RetStart>0</RetStart><IdList>\\n<Id>29562546</Id>\\n<Id>28655134</Id>\\n<Id>28387666</Id>\\n<Id>27031482</Id>\\n</IdList><TranslationSet><Translation>     <From>Giuseppe Verdile[Author]</From>     <To>Verdile, Giuseppe[Full Author Name]</To>    </Translation></TranslationSet><TranslationStack>   <TermSet>    <Term>Verdile, Giuseppe[Full Author Name]</Term>    <Field>Full Author Name</Field>    <Count>56</Count>    <Explode>N</Explode>   </TermSet>   <TermSet>    <Term>\"2014\"[PDAT]</Term>    <Field>PDAT</Field>    <Count>0</Count>    <Explode>N</Explode>   </TermSet>   <TermSet>    <Term>\"3000\"[PDAT]</Term>    <Field>PDAT</Field>    <Count>0</Count>    <Explode>N</Explode>   </TermSet>   <OP>RANGE</OP>   <OP>GROUP</OP>   <OP>AND</OP>   <OP>GROUP</OP>   <TermSet>    <Term>Curtin University of Technology[Affiliation]</Term>    <Field>Affiliation</Field>    <Count>1885</Count>    <Explode>N</Explode>   </TermSet>   <OP>AND</OP>  </TranslationStack><QueryTranslation>(Verdile, Giuseppe[Full Author Name] AND (\"2014\"[PDAT] : \"3000\"[PDAT])) AND Curtin University of Technology[Affiliation]</QueryTranslation></eSearchResult>\\n'\n"
     ]
    }
   ],
   "source": [
    "req = 'https://eutils.ncbi.nlm.nih.gov/entrez/eutils/esearch.fcgi?db=pubmed&term=%28%28%20Giuseppe%20Verdile%5BAuthor%5D%29%20AND%20%28%222014%22%5BDate%20-%20Publication%5D%20%3A%20%223000%22%5BDate%20-%20Publication%5D%29%29%20AND%20Curtin%20University%20of%20Technology%5BAffiliation%5D'\n",
    "print(urllib.request.urlopen(req).read())"
   ]
  },
  {
   "cell_type": "code",
   "execution_count": null,
   "metadata": {},
   "outputs": [],
   "source": []
  },
  {
   "cell_type": "code",
   "execution_count": null,
   "metadata": {},
   "outputs": [],
   "source": [
    "'https://eutils.ncbi.nlm.nih.gov/entrez/eutils/esearch.fcgi?db=pubmed&term=%28%28%20Giuseppe%20Verdile%5BAuthor%5D%29%20AND%20%28%222014%22%5BDate%20-%20Publication%5D%20%3A%20%223000%22%5BDate%20-%20Publication%5D%29%29%20AND%20Curtin%20University%20of%20Technology%5BAffiliation%5D'"
   ]
  },
  {
   "cell_type": "code",
   "execution_count": 11,
   "metadata": {},
   "outputs": [
    {
     "data": {
      "text/plain": [
       "'https://www.ncbi.nlm.nih.gov/pubmed?term=%28%28%20Giuseppe%20Verdile%5BAuthor%5D%29%20AND%20%28%222014%22%5BDate%20-%20Publication%5D%20%3A%20%223000%22%5BDate%20-%20Publication%5D%29%29%20AND%20Curtin%20University%20of%20Technology%5BAffiliation%5D'"
      ]
     },
     "execution_count": 11,
     "metadata": {},
     "output_type": "execute_result"
    }
   ],
   "source": []
  },
  {
   "cell_type": "code",
   "execution_count": 9,
   "metadata": {},
   "outputs": [],
   "source": [
    "for ix in search_name.iteritems(): pass"
   ]
  },
  {
   "cell_type": "code",
   "execution_count": 19,
   "metadata": {},
   "outputs": [],
   "source": [
    "search_df = pd.DataFrame([search_name, nhmrc_df['ADMINISTERING INSTITUTION']], index=['CI_NAME', 'INSTITUTE']).T"
   ]
  },
  {
   "cell_type": "code",
   "execution_count": 20,
   "metadata": {},
   "outputs": [
    {
     "data": {
      "text/html": [
       "<div>\n",
       "<style scoped>\n",
       "    .dataframe tbody tr th:only-of-type {\n",
       "        vertical-align: middle;\n",
       "    }\n",
       "\n",
       "    .dataframe tbody tr th {\n",
       "        vertical-align: top;\n",
       "    }\n",
       "\n",
       "    .dataframe thead th {\n",
       "        text-align: right;\n",
       "    }\n",
       "</style>\n",
       "<table border=\"1\" class=\"dataframe\">\n",
       "  <thead>\n",
       "    <tr style=\"text-align: right;\">\n",
       "      <th></th>\n",
       "      <th>CI_NAME</th>\n",
       "      <th>INSTITUTE</th>\n",
       "    </tr>\n",
       "  </thead>\n",
       "  <tbody>\n",
       "    <tr>\n",
       "      <th>0</th>\n",
       "      <td>McLean A</td>\n",
       "      <td>University of Adelaide</td>\n",
       "    </tr>\n",
       "    <tr>\n",
       "      <th>1</th>\n",
       "      <td>Young R</td>\n",
       "      <td>Austin Hospital Medical Research Foundation</td>\n",
       "    </tr>\n",
       "    <tr>\n",
       "      <th>2</th>\n",
       "      <td>Anderson I</td>\n",
       "      <td>Victorian Aboriginal Health Service</td>\n",
       "    </tr>\n",
       "    <tr>\n",
       "      <th>3</th>\n",
       "      <td>Kay K</td>\n",
       "      <td>University of New South Wales</td>\n",
       "    </tr>\n",
       "    <tr>\n",
       "      <th>4</th>\n",
       "      <td>Woolcock G</td>\n",
       "      <td>La Trobe University</td>\n",
       "    </tr>\n",
       "  </tbody>\n",
       "</table>\n",
       "</div>"
      ],
      "text/plain": [
       "      CI_NAME                                    INSTITUTE\n",
       "0    McLean A                       University of Adelaide\n",
       "1     Young R  Austin Hospital Medical Research Foundation\n",
       "2  Anderson I          Victorian Aboriginal Health Service\n",
       "3       Kay K                University of New South Wales\n",
       "4  Woolcock G                          La Trobe University"
      ]
     },
     "execution_count": 20,
     "metadata": {},
     "output_type": "execute_result"
    }
   ],
   "source": [
    "search_df.head()"
   ]
  },
  {
   "cell_type": "code",
   "execution_count": 30,
   "metadata": {},
   "outputs": [],
   "source": [
    "institute = nhmrc_df['ADMINISTERING INSTITUTION']"
   ]
  },
  {
   "cell_type": "code",
   "execution_count": 38,
   "metadata": {},
   "outputs": [],
   "source": []
  },
  {
   "cell_type": "code",
   "execution_count": 40,
   "metadata": {},
   "outputs": [
    {
     "data": {
      "text/plain": [
       "4363"
      ]
     },
     "execution_count": 40,
     "metadata": {},
     "output_type": "execute_result"
    }
   ],
   "source": []
  },
  {
   "cell_type": "code",
   "execution_count": 35,
   "metadata": {},
   "outputs": [
    {
     "data": {
      "text/plain": [
       "0        False\n",
       "1        False\n",
       "2         True\n",
       "3        False\n",
       "4        False\n",
       "5        False\n",
       "6        False\n",
       "7        False\n",
       "8        False\n",
       "9        False\n",
       "10       False\n",
       "11       False\n",
       "12        True\n",
       "13        True\n",
       "14        True\n",
       "15        True\n",
       "16       False\n",
       "17        True\n",
       "18        True\n",
       "19        True\n",
       "20        True\n",
       "21       False\n",
       "22        True\n",
       "23        True\n",
       "24        True\n",
       "25       False\n",
       "26        True\n",
       "27        True\n",
       "28       False\n",
       "29       False\n",
       "         ...  \n",
       "20982    False\n",
       "20983    False\n",
       "20984    False\n",
       "20985    False\n",
       "20986    False\n",
       "20987    False\n",
       "20988    False\n",
       "20989    False\n",
       "20990    False\n",
       "20991    False\n",
       "20992    False\n",
       "20993    False\n",
       "20994    False\n",
       "20995    False\n",
       "20996    False\n",
       "20997    False\n",
       "20998    False\n",
       "20999    False\n",
       "21000    False\n",
       "21001    False\n",
       "21002    False\n",
       "21003    False\n",
       "21004    False\n",
       "21005    False\n",
       "21006    False\n",
       "21007    False\n",
       "21008    False\n",
       "21009    False\n",
       "21010    False\n",
       "21011    False\n",
       "Name: GRANT SUB TYPE, Length: 21012, dtype: bool"
      ]
     },
     "execution_count": 35,
     "metadata": {},
     "output_type": "execute_result"
    }
   ],
   "source": []
  },
  {
   "cell_type": "code",
   "execution_count": null,
   "metadata": {},
   "outputs": [],
   "source": []
  },
  {
   "cell_type": "code",
   "execution_count": 13,
   "metadata": {},
   "outputs": [
    {
     "data": {
      "text/plain": [
       "'^University|^QIM|^RAOBio@rgms|^ECU|^RAO|^Primary'"
      ]
     },
     "execution_count": 13,
     "metadata": {},
     "output_type": "execute_result"
    }
   ],
   "source": [
    "f\"^{'|^'.join(checks)}\""
   ]
  },
  {
   "cell_type": "code",
   "execution_count": 8,
   "metadata": {},
   "outputs": [
    {
     "data": {
      "text/html": [
       "<div>\n",
       "<style scoped>\n",
       "    .dataframe tbody tr th:only-of-type {\n",
       "        vertical-align: middle;\n",
       "    }\n",
       "\n",
       "    .dataframe tbody tr th {\n",
       "        vertical-align: top;\n",
       "    }\n",
       "\n",
       "    .dataframe thead th {\n",
       "        text-align: right;\n",
       "    }\n",
       "</style>\n",
       "<table border=\"1\" class=\"dataframe\">\n",
       "  <thead>\n",
       "    <tr style=\"text-align: right;\">\n",
       "      <th></th>\n",
       "      <th>GRANT ID</th>\n",
       "      <th>APPLICATION YEAR</th>\n",
       "      <th>CIA NAME</th>\n",
       "      <th>GRANT SUB TYPE</th>\n",
       "      <th>GRANT TITLE</th>\n",
       "      <th>ADMINISTERING INSTITUTION</th>\n",
       "      <th>STATE</th>\n",
       "      <th>SECTOR</th>\n",
       "      <th>STATUS</th>\n",
       "      <th>START YR</th>\n",
       "      <th>END YR</th>\n",
       "      <th>BUDGET TOTAL</th>\n",
       "      <th>BROAD RESEARCH AREA</th>\n",
       "      <th>FIELD OF RESEARCH</th>\n",
       "      <th>KEYWORDS</th>\n",
       "      <th>MEDIA SUMMARY</th>\n",
       "      <th>ACHIEVEMENTS</th>\n",
       "      <th>EXPECTED FUTURE OUTCOMES</th>\n",
       "      <th>Unnamed: 18</th>\n",
       "    </tr>\n",
       "  </thead>\n",
       "  <tbody>\n",
       "    <tr>\n",
       "      <th>0</th>\n",
       "      <td>943301</td>\n",
       "      <td>1993</td>\n",
       "      <td>Prof Allan McLean</td>\n",
       "      <td>Research Unit Grant</td>\n",
       "      <td>Road Accident Research Unit</td>\n",
       "      <td>University of Adelaide</td>\n",
       "      <td>SA</td>\n",
       "      <td>University</td>\n",
       "      <td>Closed</td>\n",
       "      <td>1994</td>\n",
       "      <td>2000</td>\n",
       "      <td>44441.19</td>\n",
       "      <td>Not Applicable</td>\n",
       "      <td>Environmental and Occupational Health and Safety</td>\n",
       "      <td>| biomechanics | brain injury | impact | phys...</td>\n",
       "      <td>Media Summary not available</td>\n",
       "      <td>NaN</td>\n",
       "      <td>NaN</td>\n",
       "      <td>.</td>\n",
       "    </tr>\n",
       "    <tr>\n",
       "      <th>1</th>\n",
       "      <td>947582</td>\n",
       "      <td>1993</td>\n",
       "      <td>Dr Richard Young</td>\n",
       "      <td>Dora Lush Biomedical Postgraduate Scholarship</td>\n",
       "      <td>Altered gene expression in cardiac hypertrophy</td>\n",
       "      <td>Austin Hospital Medical Research Foundation</td>\n",
       "      <td>VIC</td>\n",
       "      <td>Hospital</td>\n",
       "      <td>Closed</td>\n",
       "      <td>1996</td>\n",
       "      <td>2000</td>\n",
       "      <td>695.95</td>\n",
       "      <td>Basic Science</td>\n",
       "      <td>Cardiology (incl. Cardiovascular Diseases)</td>\n",
       "      <td>| myocardial infarctio | contractile proteins...</td>\n",
       "      <td>Media Summary not available</td>\n",
       "      <td>NaN</td>\n",
       "      <td>NaN</td>\n",
       "      <td>.</td>\n",
       "    </tr>\n",
       "    <tr>\n",
       "      <th>2</th>\n",
       "      <td>956084</td>\n",
       "      <td>1994</td>\n",
       "      <td>Prof Ian Anderson</td>\n",
       "      <td>CARG Project Grant</td>\n",
       "      <td>Developing a HIV and HepC Risk Reduction Progr...</td>\n",
       "      <td>Victorian Aboriginal Health Service</td>\n",
       "      <td>VIC</td>\n",
       "      <td>Government</td>\n",
       "      <td>Closed</td>\n",
       "      <td>1995</td>\n",
       "      <td>2001</td>\n",
       "      <td>76978.62</td>\n",
       "      <td>Basic Science</td>\n",
       "      <td>Medical Virology</td>\n",
       "      <td></td>\n",
       "      <td>Media Summary not available</td>\n",
       "      <td>NaN</td>\n",
       "      <td>NaN</td>\n",
       "      <td>.</td>\n",
       "    </tr>\n",
       "    <tr>\n",
       "      <th>3</th>\n",
       "      <td>956510</td>\n",
       "      <td>1994</td>\n",
       "      <td>Ms Kathleen Kay</td>\n",
       "      <td>CARG Scholarship</td>\n",
       "      <td>World Health Organisation's AIDS policy histor...</td>\n",
       "      <td>University of New South Wales</td>\n",
       "      <td>NSW</td>\n",
       "      <td>University</td>\n",
       "      <td>Closed</td>\n",
       "      <td>1995</td>\n",
       "      <td>2000</td>\n",
       "      <td>3527.39</td>\n",
       "      <td>Public Health</td>\n",
       "      <td>Medical Virology</td>\n",
       "      <td></td>\n",
       "      <td>Media Summary not available</td>\n",
       "      <td>NaN</td>\n",
       "      <td>NaN</td>\n",
       "      <td>.</td>\n",
       "    </tr>\n",
       "    <tr>\n",
       "      <th>4</th>\n",
       "      <td>956545</td>\n",
       "      <td>1994</td>\n",
       "      <td>Mr GWE Woolcock</td>\n",
       "      <td>CARG Scholarship</td>\n",
       "      <td>New social movements and HIV/AIDS: reconceptua...</td>\n",
       "      <td>La Trobe University</td>\n",
       "      <td>VIC</td>\n",
       "      <td>University</td>\n",
       "      <td>Closed</td>\n",
       "      <td>1996</td>\n",
       "      <td>2001</td>\n",
       "      <td>249.00</td>\n",
       "      <td>Public Health</td>\n",
       "      <td>Medical Virology</td>\n",
       "      <td></td>\n",
       "      <td>Media Summary not available</td>\n",
       "      <td>NaN</td>\n",
       "      <td>NaN</td>\n",
       "      <td>.</td>\n",
       "    </tr>\n",
       "  </tbody>\n",
       "</table>\n",
       "</div>"
      ],
      "text/plain": [
       "   GRANT ID  APPLICATION YEAR           CIA NAME  \\\n",
       "0    943301              1993  Prof Allan McLean   \n",
       "1    947582              1993   Dr Richard Young   \n",
       "2    956084              1994  Prof Ian Anderson   \n",
       "3    956510              1994    Ms Kathleen Kay   \n",
       "4    956545              1994    Mr GWE Woolcock   \n",
       "\n",
       "                                  GRANT SUB TYPE  \\\n",
       "0                            Research Unit Grant   \n",
       "1  Dora Lush Biomedical Postgraduate Scholarship   \n",
       "2                             CARG Project Grant   \n",
       "3                               CARG Scholarship   \n",
       "4                               CARG Scholarship   \n",
       "\n",
       "                                         GRANT TITLE  \\\n",
       "0                        Road Accident Research Unit   \n",
       "1     Altered gene expression in cardiac hypertrophy   \n",
       "2  Developing a HIV and HepC Risk Reduction Progr...   \n",
       "3  World Health Organisation's AIDS policy histor...   \n",
       "4  New social movements and HIV/AIDS: reconceptua...   \n",
       "\n",
       "                     ADMINISTERING INSTITUTION STATE      SECTOR  STATUS  \\\n",
       "0                       University of Adelaide    SA  University  Closed   \n",
       "1  Austin Hospital Medical Research Foundation   VIC    Hospital  Closed   \n",
       "2          Victorian Aboriginal Health Service   VIC  Government  Closed   \n",
       "3                University of New South Wales   NSW  University  Closed   \n",
       "4                          La Trobe University   VIC  University  Closed   \n",
       "\n",
       "   START YR  END YR  BUDGET TOTAL BROAD RESEARCH AREA  \\\n",
       "0      1994    2000      44441.19      Not Applicable   \n",
       "1      1996    2000        695.95       Basic Science   \n",
       "2      1995    2001      76978.62       Basic Science   \n",
       "3      1995    2000       3527.39       Public Health   \n",
       "4      1996    2001        249.00       Public Health   \n",
       "\n",
       "                                  FIELD OF RESEARCH  \\\n",
       "0  Environmental and Occupational Health and Safety   \n",
       "1        Cardiology (incl. Cardiovascular Diseases)   \n",
       "2                                  Medical Virology   \n",
       "3                                  Medical Virology   \n",
       "4                                  Medical Virology   \n",
       "\n",
       "                                            KEYWORDS  \\\n",
       "0   | biomechanics | brain injury | impact | phys...   \n",
       "1   | myocardial infarctio | contractile proteins...   \n",
       "2                                                      \n",
       "3                                                      \n",
       "4                                                      \n",
       "\n",
       "                 MEDIA SUMMARY ACHIEVEMENTS EXPECTED FUTURE OUTCOMES  \\\n",
       "0  Media Summary not available          NaN                      NaN   \n",
       "1  Media Summary not available          NaN                      NaN   \n",
       "2  Media Summary not available          NaN                      NaN   \n",
       "3  Media Summary not available          NaN                      NaN   \n",
       "4  Media Summary not available          NaN                      NaN   \n",
       "\n",
       "  Unnamed: 18  \n",
       "0           .  \n",
       "1           .  \n",
       "2           .  \n",
       "3           .  \n",
       "4           .  "
      ]
     },
     "execution_count": 8,
     "metadata": {},
     "output_type": "execute_result"
    }
   ],
   "source": [
    ".str.replace(title_pat, '')"
   ]
  },
  {
   "cell_type": "code",
   "execution_count": null,
   "metadata": {},
   "outputs": [],
   "source": []
  }
 ],
 "metadata": {
  "kernelspec": {
   "display_name": "Python 3",
   "language": "python",
   "name": "python3"
  },
  "language_info": {
   "codemirror_mode": {
    "name": "ipython",
    "version": 3
   },
   "file_extension": ".py",
   "mimetype": "text/x-python",
   "name": "python",
   "nbconvert_exporter": "python",
   "pygments_lexer": "ipython3",
   "version": "3.7.0"
  }
 },
 "nbformat": 4,
 "nbformat_minor": 2
}
